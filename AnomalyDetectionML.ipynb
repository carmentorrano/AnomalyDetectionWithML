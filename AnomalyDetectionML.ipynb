{
 "cells": [
  {
   "cell_type": "code",
   "execution_count": 1,
   "metadata": {
    "collapsed": true
   },
   "outputs": [],
   "source": [
    "import numpy as np\n",
    "import pandas as pd\n",
    "import matplotlib.pyplot as plt\n",
    "from datetime import datetime \n",
    "from csv_dataset import CsvDataset\n",
    "from sklearn.pipeline import Pipeline\n",
    "from sklearn.ensemble import IsolationForest\n",
    "\n",
    "import math\n",
    "\n",
    "from sklearn.svm import LinearSVC\n",
    "from sklearn.feature_selection import SelectFromModel\n",
    "from sklearn.ensemble import ExtraTreesClassifier\n",
    "\n",
    "import wrangling \n",
    "from sklearn.base import BaseEstimator, TransformerMixin\n",
    "\n",
    "from aggregatorResetIndex import AggregatorResetIndex\n",
    "from ascending_orderer import AscendingOrderer\n",
    "from column_dropper import ColumnDropper\n",
    "from column_selector import ColumnSelector\n",
    "from ObjectToCategory import ObjectToCategory\n",
    "from GroupByTimeFrec import GroupByTimeFrec"
   ]
  },
  {
   "cell_type": "code",
   "execution_count": 2,
   "metadata": {
    "collapsed": true
   },
   "outputs": [],
   "source": [
    "CsvDataset.merge_to_csv('2017-01-19-pseudoDarkleech-Rig-V-2nd-run-sends-Cerber-ransomware.csv', 'test5.csv', 'rdo1.csv')"
   ]
  },
  {
   "cell_type": "code",
   "execution_count": null,
   "metadata": {
    "collapsed": true
   },
   "outputs": [],
   "source": [
    "data = pd.read_csv(\n",
    "    \"rdo1.csv\",\n",
    "    parse_dates=[\"ts\", \"te\"],  # Seleccionamos las columnas que tienen fechas para que las trate como tal\n",
    "    index_col=\"ts\",  # Usamos el tiempo de inicio como índice\n",
    "    usecols=[  # Elegimos solo las siguientes columnas del archivo csv\n",
    "        'ts', 'te', 'td', 'sa', 'da', 'sp', 'dp', 'pr', 'flg', 'ipkt','ibyt','type'],\n",
    "    engine = \"c\",  # Mejor rendimiento y uso de la memoria\n",
    "    dtype = {  # We specify the column data types so pandas doesn't have to infer them\n",
    "        'ts': 'str',\n",
    "        'te': 'str',\n",
    "        'td': 'float',\n",
    "        'sa': 'str',\n",
    "        'da': 'str',\n",
    "        'sp': 'int',\n",
    "        'dp': 'int',\n",
    "        'pr': 'str',\n",
    "        'flg': 'str',\n",
    "        'ipkt': 'int',\n",
    "        'ibyt': 'int',\n",
    "        'type':'str',\n",
    "    },\n",
    ")\n"
   ]
  },
  {
   "cell_type": "code",
   "execution_count": null,
   "metadata": {
    "collapsed": true
   },
   "outputs": [],
   "source": [
    "data2 = data.copy()\n",
    "data2['ts_n']=data.index\n",
    "\n",
    "t1= ObjectToCategory('type','type_c')\n",
    "t1.fit(data)\n",
    "data2= t1.transform(data2)\n",
    "data2"
   ]
  },
  {
   "cell_type": "code",
   "execution_count": null,
   "metadata": {
    "collapsed": true
   },
   "outputs": [],
   "source": [
    "estimator = IsolationForest(n_estimators=100, contamination=0.01, max_samples=256)\n",
    "estimator"
   ]
  },
  {
   "cell_type": "code",
   "execution_count": null,
   "metadata": {
    "collapsed": true
   },
   "outputs": [],
   "source": [
    "transforms = Pipeline([('orderAsc', AscendingOrderer(['ts_n', 'te'])),('groupFlows', GroupByTimeFrec(\"5s\")),('aggregate', AggregatorResetIndex(['sa','pr','da','ts_n', 'type_c'], 'count')),('selectColumns',ColumnSelector(['sa','pr','da', 'ts_n','type_c'])),('aggregate2', AggregatorResetIndex(['sa','pr','ts_n', 'type_c'], 'count')),('categorize_sa', ObjectToCategory('sa','sa_c')), ('categorize_pr', ObjectToCategory('pr','pr_c')), ('categorize_ts', ObjectToCategory('ts_n','ts_c')), ('dropColumns',ColumnDropper(['id', 'sa', 'da', 'pr', 'ts_n','ipkt','ibyt']))])\n",
    "transforms"
   ]
  },
  {
   "cell_type": "code",
   "execution_count": null,
   "metadata": {
    "collapsed": true
   },
   "outputs": [],
   "source": [
    "df_transformed = transforms.transform(data2)\n",
    "df_transformed"
   ]
  },
  {
   "cell_type": "code",
   "execution_count": null,
   "metadata": {
    "collapsed": true
   },
   "outputs": [],
   "source": [
    "Y= df_transformed.type_c #labels (type) \n",
    "X= df_transformed.drop('type_c',1) #data\n",
    "X.shape"
   ]
  },
  {
   "cell_type": "code",
   "execution_count": null,
   "metadata": {
    "collapsed": true
   },
   "outputs": [],
   "source": [
    "clf = ExtraTreesClassifier()\n",
    "clf = clf.fit(X, Y)\n",
    "clf.feature_importances_\n",
    "model = SelectFromModel(clf, prefit=True) #by default the median of the features importance\n",
    "X_new = model.transform(X)\n",
    "X_new.shape #2 ts_c\n",
    "X_new\n",
    "df_transformed_fs = pd.DataFrame(X_new,index=X_new[:,0])\n",
    "df_transformed_fs"
   ]
  },
  {
   "cell_type": "code",
   "execution_count": null,
   "metadata": {
    "collapsed": true
   },
   "outputs": [],
   "source": [
    "estimator.fit(X_new)\n",
    "prediction = estimator.predict(X_new)\n",
    "df_transformed_fs['prediction'] = prediction\n",
    "df_transformed_fs['type_c']=Y\n",
    "df_transformed_fs"
   ]
  },
  {
   "cell_type": "code",
   "execution_count": null,
   "metadata": {
    "collapsed": true
   },
   "outputs": [],
   "source": [
    "df_transformed_fs[(df_transformed_fs['prediction'] == -1) & (df_transformed_fs['type_c'] == 1)]"
   ]
  },
  {
   "cell_type": "code",
   "execution_count": null,
   "metadata": {
    "collapsed": true
   },
   "outputs": [],
   "source": [
    "FP= df_transformed_fs[(df_transformed_fs['prediction'] == -1) & (df_transformed_fs['type_c'] == 0)]\n",
    "TN= df_transformed_fs[(df_transformed_fs['prediction'] == 1) & (df_transformed_fs['type_c'] == 0)]\n",
    "print ('FP:')\n",
    "print (FP.size/df_transformed_fs.shape[1]/df_transformed_fs.shape[0]) \n",
    "print ('TN:')\n",
    "print (TN.size/df_transformed_fs.shape[1]/df_transformed_fs.shape[0]) "
   ]
  },
  {
   "cell_type": "code",
   "execution_count": null,
   "metadata": {
    "collapsed": true
   },
   "outputs": [],
   "source": []
  },
  {
   "cell_type": "code",
   "execution_count": 52,
   "metadata": {
    "collapsed": true
   },
   "outputs": [],
   "source": []
  },
  {
   "cell_type": "code",
   "execution_count": null,
   "metadata": {
    "collapsed": true
   },
   "outputs": [],
   "source": []
  }
 ],
 "metadata": {
  "kernelspec": {
   "display_name": "Python 3",
   "language": "python",
   "name": "python3"
  },
  "language_info": {
   "codemirror_mode": {
    "name": "ipython",
    "version": 3
   },
   "file_extension": ".py",
   "mimetype": "text/x-python",
   "name": "python",
   "nbconvert_exporter": "python",
   "pygments_lexer": "ipython3",
   "version": "3.6.1"
  }
 },
 "nbformat": 4,
 "nbformat_minor": 2
}
